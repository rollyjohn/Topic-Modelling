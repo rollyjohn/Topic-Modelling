{
 "cells": [
  {
   "cell_type": "markdown",
   "metadata": {},
   "source": [
    "# How Topic Modelling can help companies to mine through comments and reviews?\n",
    "\n",
    "People love to leave feedbacks about the products and services in multiple channels like social media platforms, product websites, merchant websites etc. Companies have to constantly monitor user rating and comments to protect themselves. At the same time smart companies leverages these comments as sources for improvement. \n",
    "While I was trying to work on the  comments people leave from app store I wanted to see what more I can apply to user comments apart from sentimental analysis. Can I quickly sort through the comments and find out the topics people are appreciating, or dissatisfied with? Can I send only the relevant comments to relevant teams? \n",
    " \n",
    "\n",
    "\n",
    "\n",
    "# Topic Modelling\n",
    "\n",
    "Topic modelling is one tools of Natural Language Processing(NLP) that helps someone to go through huge textual documents and quickly find out what the document is talking about.  The document is broken down into corpus state first and then the topic model algorithm set out to findin the probabilitis of occurance of particular words in particular topics. For example \"dog\" and \"bone\" will appear more frequency in a document about dogs. The document may also be talking about cats, but we can assume that in a document about dogs there would probably 9 times more dog words than cat words. Topic modellign help to capture this. More can read in https://en.wikipedia.org/wiki/Topic_model \n"
   ]
  },
  {
   "cell_type": "markdown",
   "metadata": {},
   "source": [
    "#### Import packages"
   ]
  },
  {
   "cell_type": "code",
   "execution_count": 2,
   "metadata": {},
   "outputs": [],
   "source": [
    "# @hidden_cell\n",
    "\n",
    "# packages to store and manipulate data\n",
    "import pandas as pd\n",
    "import numpy as np\n",
    "\n",
    "# plotting packages\n",
    "import matplotlib.pyplot as plt\n",
    "%matplotlib inline\n",
    "\n",
    "# package to clean text\n",
    "import re\n",
    "\n",
    "# I am going to use Genisis package for the modelling. \n",
    "# Gensim\n",
    "import gensim\n",
    "import gensim.corpora as corpora\n",
    "from gensim.utils import simple_preprocess\n",
    "from gensim.models import CoherenceModel\n",
    "\n",
    "# spacy for lemmatization\n",
    "import spacy\n",
    "\n",
    "# nltk\n",
    "import nltk\n",
    "nltk.download('stopwords', quiet=True)\n",
    "nltk.download('wordnet', quiet=True)\n",
    "\n",
    "# Plotting tools\n",
    "import pyLDAvis\n",
    "import pyLDAvis.gensim_models\n",
    "import pyLDAvis.gensim_models as gensimvis\n",
    "pyLDAvis.enable_notebook()\n",
    "\n",
    "# package to print\n",
    "from pprint import pprint\n",
    "\n",
    "# settings to display\n",
    "pd.set_option(\"display.max_columns\", None)\n",
    "pd.options.display.max_colwidth = 50\n",
    "\n",
    "\n",
    "import warnings; \n",
    "warnings.simplefilter('ignore')\n",
    "warnings.filterwarnings(\"ignore\", category=DeprecationWarning) \n",
    "\n",
    "\n"
   ]
  },
  {
   "cell_type": "markdown",
   "metadata": {},
   "source": [
    "---------------\n",
    "#### Data Background\n",
    "\n",
    "All banks provide their customers banking experience through the Mobile apps. For the new gen banking customers a smooth mobile banking experience is a must have. For this project I am going to use the Apple app store reviews left for the net banking mobile app of a leading Indian bank. I extracted 1000 reviews using 'app_store_scraper' package and filtered for reviews with less than 4 rating, i.e negative reviews, for analysis. \n",
    "\n",
    "------"
   ]
  },
  {
   "cell_type": "markdown",
   "metadata": {},
   "source": [
    "### Let's look at the data"
   ]
  },
  {
   "cell_type": "code",
   "execution_count": 4,
   "metadata": {},
   "outputs": [
    {
     "name": "stdout",
     "output_type": "stream",
     "text": [
      "<class 'pandas.core.frame.DataFrame'>\n",
      "RangeIndex: 1000 entries, 0 to 999\n",
      "Data columns (total 3 columns):\n",
      " #   Column  Non-Null Count  Dtype \n",
      "---  ------  --------------  ----- \n",
      " 0   review  1000 non-null   object\n",
      " 1   rating  1000 non-null   int64 \n",
      " 2   date    1000 non-null   object\n",
      "dtypes: int64(1), object(2)\n",
      "memory usage: 23.6+ KB\n",
      "None\n"
     ]
    }
   ],
   "source": [
    "# Read the review data\n",
    "review_df = pd.read_csv(\"https://raw.githubusercontent.com/rollyjohn/Topic-Modelling/main/reviews_appstore_for_topicmodelling.csv\")\n",
    "\n",
    "print(review_df.info())\n"
   ]
  },
  {
   "cell_type": "markdown",
   "metadata": {},
   "source": [
    "The data set contains 1000 reviews. Lets look the data closely"
   ]
  },
  {
   "cell_type": "code",
   "execution_count": 5,
   "metadata": {},
   "outputs": [
    {
     "data": {
      "text/html": [
       "<div>\n",
       "<style scoped>\n",
       "    .dataframe tbody tr th:only-of-type {\n",
       "        vertical-align: middle;\n",
       "    }\n",
       "\n",
       "    .dataframe tbody tr th {\n",
       "        vertical-align: top;\n",
       "    }\n",
       "\n",
       "    .dataframe thead th {\n",
       "        text-align: right;\n",
       "    }\n",
       "</style>\n",
       "<table border=\"1\" class=\"dataframe\">\n",
       "  <thead>\n",
       "    <tr style=\"text-align: center;\">\n",
       "      <th></th>\n",
       "      <th>review</th>\n",
       "      <th>rating</th>\n",
       "      <th>date</th>\n",
       "    </tr>\n",
       "  </thead>\n",
       "  <tbody>\n",
       "    <tr>\n",
       "      <th>0</th>\n",
       "      <td>The deletion option does not allow the account holder to select more thank one payee account for...</td>\n",
       "      <td>5</td>\n",
       "      <td>31/12/21 9:34</td>\n",
       "    </tr>\n",
       "    <tr>\n",
       "      <th>1</th>\n",
       "      <td>Same issue repeats - credit card tab not working especially for Sapphiro Amex cards. I can not ‘...</td>\n",
       "      <td>2</td>\n",
       "      <td>05/04/21 12:14</td>\n",
       "    </tr>\n",
       "    <tr>\n",
       "      <th>2</th>\n",
       "      <td>1. The app could do with a serious makeover also ensuring that all the functionality still works...</td>\n",
       "      <td>1</td>\n",
       "      <td>01/01/22 3:31</td>\n",
       "    </tr>\n",
       "    <tr>\n",
       "      <th>3</th>\n",
       "      <td>Hello...all other banks like sbi RBL etc have provided the facility to directly pay their credit...</td>\n",
       "      <td>1</td>\n",
       "      <td>27/12/18 15:37</td>\n",
       "    </tr>\n",
       "    <tr>\n",
       "      <th>4</th>\n",
       "      <td>The update has a great new User Interface. Love the new Analytics feature called  “Discover” int...</td>\n",
       "      <td>5</td>\n",
       "      <td>24/12/18 9:26</td>\n",
       "    </tr>\n",
       "  </tbody>\n",
       "</table>\n",
       "</div>"
      ],
      "text/plain": [
       "                                                 review                                                 rating       date     \n",
       "0  The deletion option does not allow the account holder to select more thank one payee account for...     5     31/12/21 9:34\n",
       "1  Same issue repeats - credit card tab not working especially for Sapphiro Amex cards. I can not ‘...     2    05/04/21 12:14\n",
       "2  1. The app could do with a serious makeover also ensuring that all the functionality still works...     1     01/01/22 3:31\n",
       "3  Hello...all other banks like sbi RBL etc have provided the facility to directly pay their credit...     1    27/12/18 15:37\n",
       "4  The update has a great new User Interface. Love the new Analytics feature called  “Discover” int...     5     24/12/18 9:26"
      ]
     },
     "metadata": {},
     "output_type": "display_data"
    }
   ],
   "source": [
    "# @hidden_cell\n",
    "# Print\n",
    "pd.options.display.max_colwidth = 100\n",
    "pd.set_option('display.max_rows', None)\n",
    "pd.set_option('display.max_columns', None)\n",
    "pd.set_option('display.width', 1000)\n",
    "pd.set_option('display.colheader_justify', 'center')\n",
    "pd.set_option('display.precision', 3)\n",
    "\n",
    "display(review_df.head())"
   ]
  },
  {
   "cell_type": "markdown",
   "metadata": {},
   "source": [
    "------------------\n",
    "\n",
    "\n",
    "The first impression is that people leave feedbacks on multuple topics in the same entry. This will make it difficult to narrow down on the key topic of each review. \n",
    "\n",
    "To make life bit easy I select reviews with rating below 4 , basically negative rating, for further analysis. I can assume that this set of comments are complaints and topics coming our from analysis are that which need improvement. \n",
    "\n",
    "------------------"
   ]
  },
  {
   "cell_type": "code",
   "execution_count": 6,
   "metadata": {},
   "outputs": [
    {
     "name": "stdout",
     "output_type": "stream",
     "text": [
      "<class 'pandas.core.frame.DataFrame'>\n",
      "RangeIndex: 450 entries, 0 to 449\n",
      "Data columns (total 3 columns):\n",
      " #   Column  Non-Null Count  Dtype \n",
      "---  ------  --------------  ----- \n",
      " 0   review  450 non-null    object\n",
      " 1   rating  450 non-null    int64 \n",
      " 2   date    450 non-null    object\n",
      "dtypes: int64(1), object(2)\n",
      "memory usage: 10.7+ KB\n",
      "None\n"
     ]
    }
   ],
   "source": [
    "# Filter te negative reviews\n",
    "neg_review_df = review_df.loc[review_df['rating'] < 4]\n",
    "neg_review_df.reset_index(drop=True, inplace=True)\n",
    "print(neg_review_df.info())\n",
    "\n"
   ]
  },
  {
   "cell_type": "markdown",
   "metadata": {},
   "source": [
    "---------------------------------------------------------------------------------------\n",
    "After filtering we have 450 reviews in our dataframe now. \n",
    "\n"
   ]
  },
  {
   "cell_type": "markdown",
   "metadata": {},
   "source": [
    "Lets look the the top reviews in the dataset"
   ]
  },
  {
   "cell_type": "code",
   "execution_count": 7,
   "metadata": {},
   "outputs": [
    {
     "data": {
      "text/html": [
       "<div>\n",
       "<style scoped>\n",
       "    .dataframe tbody tr th:only-of-type {\n",
       "        vertical-align: middle;\n",
       "    }\n",
       "\n",
       "    .dataframe tbody tr th {\n",
       "        vertical-align: top;\n",
       "    }\n",
       "\n",
       "    .dataframe thead th {\n",
       "        text-align: right;\n",
       "    }\n",
       "</style>\n",
       "<table border=\"1\" class=\"dataframe\">\n",
       "  <thead>\n",
       "    <tr style=\"text-align: center;\">\n",
       "      <th></th>\n",
       "      <th>review</th>\n",
       "      <th>rating</th>\n",
       "      <th>date</th>\n",
       "    </tr>\n",
       "  </thead>\n",
       "  <tbody>\n",
       "    <tr>\n",
       "      <th>0</th>\n",
       "      <td>Same issue repeats - credit card tab not working especially for Sapphiro Amex cards. I can not ‘manage’ Amex cards a...</td>\n",
       "      <td>2</td>\n",
       "      <td>05/04/21 12:14</td>\n",
       "    </tr>\n",
       "    <tr>\n",
       "      <th>1</th>\n",
       "      <td>1. The app could do with a serious makeover also ensuring that all the functionality still works. Like never have I ...</td>\n",
       "      <td>1</td>\n",
       "      <td>01/01/22 3:31</td>\n",
       "    </tr>\n",
       "    <tr>\n",
       "      <th>2</th>\n",
       "      <td>Hello...all other banks like sbi RBL etc have provided the facility to directly pay their credit card bills via thei...</td>\n",
       "      <td>1</td>\n",
       "      <td>27/12/18 15:37</td>\n",
       "    </tr>\n",
       "    <tr>\n",
       "      <th>3</th>\n",
       "      <td>I like to set limits for all transactions just because I do not get overboard with spends. Before the previous updat...</td>\n",
       "      <td>1</td>\n",
       "      <td>17/10/21 22:54</td>\n",
       "    </tr>\n",
       "    <tr>\n",
       "      <th>4</th>\n",
       "      <td>To whom ever it concern, I had downloaded app and I have been trying to login  through registered mobile number  and...</td>\n",
       "      <td>1</td>\n",
       "      <td>04/07/20 12:40</td>\n",
       "    </tr>\n",
       "  </tbody>\n",
       "</table>\n",
       "</div>"
      ],
      "text/plain": [
       "                                                           review                                                           rating       date     \n",
       "0  Same issue repeats - credit card tab not working especially for Sapphiro Amex cards. I can not ‘manage’ Amex cards a...     2    05/04/21 12:14\n",
       "1  1. The app could do with a serious makeover also ensuring that all the functionality still works. Like never have I ...     1     01/01/22 3:31\n",
       "2  Hello...all other banks like sbi RBL etc have provided the facility to directly pay their credit card bills via thei...     1    27/12/18 15:37\n",
       "3  I like to set limits for all transactions just because I do not get overboard with spends. Before the previous updat...     1    17/10/21 22:54\n",
       "4  To whom ever it concern, I had downloaded app and I have been trying to login  through registered mobile number  and...     1    04/07/20 12:40"
      ]
     },
     "metadata": {},
     "output_type": "display_data"
    }
   ],
   "source": [
    "pd.options.display.max_colwidth = 120\n",
    "\n",
    "display(neg_review_df.head())\n"
   ]
  },
  {
   "cell_type": "markdown",
   "metadata": {},
   "source": [
    "------------------"
   ]
  },
  {
   "cell_type": "markdown",
   "metadata": {},
   "source": [
    "If I were to manually inspect the comments it will look like this,\n",
    "\n",
    "0. Improvement suggestion on multiple topics -  credit card tab, FasTag display on app, better interface for debit card block, NPS tab, investment tab. \n",
    "\n",
    "1. User complaint on multiple topics - overall makeover, spammy advertisements on login, customer care calls.\n",
    "\n",
    "2. User is asking for new feature -  a direct credit card payment to any bank.\n",
    "\n",
    "3. User is not able to set the transaction limit.\n",
    "\n",
    "4. User is not able to login through registered mobile.\n",
    "\n",
    "\n",
    "\n",
    "Let's try topic modelling to achieve the same result in must faster way. The first step for modelling is pre-processing the data\n",
    "\n",
    "\n",
    "------------------\n",
    "\n"
   ]
  },
  {
   "cell_type": "markdown",
   "metadata": {},
   "source": [
    "## Data preprocessing\n",
    "\n",
    "Data for modelling is preprared after processing with below steps\n",
    "\n",
    "- Tokenization\n",
    "- Remove stop words\n",
    "- Lemmatization"
   ]
  },
  {
   "cell_type": "code",
   "execution_count": 8,
   "metadata": {},
   "outputs": [],
   "source": [
    "# @hidden_cell\n",
    "# First tokenize each sentence into a list of words, removing punctuations and unnecessary characters altogether\n",
    "def sent_to_words(sentences):\n",
    "    for sentence in sentences:\n",
    "        yield(gensim.utils.simple_preprocess(str(sentence), deacc=True))  # deacc=True removes punctuations\n",
    "\n",
    "neg_review_df['data_words'] = list(sent_to_words(neg_review_df.review))\n",
    "\n",
    "# After tokenization remove stoword and apply lemmatization \n",
    "from nltk.corpus import stopwords\n",
    "stop_words = stopwords.words('english')\n",
    "stop_words.extend(['app', 'bank', 'account','try','issue','problem', 'face'])  #adding my own stop words\n",
    "\n",
    "def process_words(texts, stop_words=stop_words, allowed_postags=['NOUN', 'ADJ', 'VERB', 'ADV']):\n",
    "\n",
    "    # remove stop words\n",
    "    texts = [[word for word in simple_preprocess(str(doc)) if word not in stop_words] for doc in texts]\n",
    "    texts_out = []\n",
    "\n",
    "    # Lemmatization\n",
    "    nlp = spacy.load(\"en_core_web_sm\",disable=['parser', 'ner'])\n",
    "    for sent in texts:\n",
    "        doc = nlp(\" \".join(sent)) \n",
    "        texts_out.append([token.lemma_ for token in doc if token.pos_ in allowed_postags])\n",
    "    \n",
    "    # remove stopwords once more after lemmatization\n",
    "    texts_out = [[word for word in simple_preprocess(str(doc)) if word not in stop_words] for doc in texts_out]    \n",
    "    return texts_out\n",
    "\n",
    "neg_review_df['data_ready'] = process_words(neg_review_df.data_words)  # processed Text Data!"
   ]
  },
  {
   "cell_type": "markdown",
   "metadata": {},
   "source": [
    "Our data is ready for model fit now. \n",
    "\n",
    "---------------"
   ]
  },
  {
   "cell_type": "markdown",
   "metadata": {},
   "source": [
    "## Latent Dirichlet allocation (LDA)\n",
    "\n",
    "LDA is the most commonly used algorithm in Topic Modelling , developed by David Blei, Andrew Ng, and Michael I. Jordan in 2002.  It builds a topic-per-document model and words-per-topic model, modelled as Dirichlet distributions. As the words 'latent' suggests LDA sets to discover the hidden pattern that is yet to be discovered.\n",
    "\n",
    "\n",
    "#### Parameters of LDA\n",
    "- Number of Topics – Number of topics to be extracted from the corpus. There are advanced approaches like Kullback Leibler Divergence to obtain the optimal number of topics.\n",
    "\n",
    "- Number of Topic Terms – Number of terms composed in a single topic. It is generally decided according to the requirement. If the problem statement talks about extracting themes or concepts, it is recommended to choose a higher number, if problem statement talks about extracting features or terms, a low number is recommended.\n",
    "\n",
    "- Number of Iterations / passes – Maximum number of iterations allowed to LDA algorithm for convergence.\n",
    "\n",
    "One can learm more about LDA paramters here https://www.analyticsvidhya.com/blog/2016/08/beginners-guide-to-topic-modeling-in-python/ \n",
    "\n",
    "\n",
    "----------"
   ]
  },
  {
   "cell_type": "code",
   "execution_count": 9,
   "metadata": {},
   "outputs": [
    {
     "name": "stdout",
     "output_type": "stream",
     "text": [
      "[(0,\n",
      "  '0.051*\"update\" + 0.038*\"go\" + 0.034*\"pay\" + 0.031*\"bill\" + '\n",
      "  '0.031*\"statement\" + 0.029*\"click\" + 0.028*\"unable\" + 0.027*\"add\" + '\n",
      "  '0.027*\"bug\" + 0.025*\"due\"'),\n",
      " (1,\n",
      "  '0.062*\"card\" + 0.039*\"credit\" + 0.032*\"work\" + 0.032*\"show\" + 0.026*\"use\" + '\n",
      "  '0.025*\"even\" + 0.022*\"get\" + 0.021*\"time\" + 0.020*\"check\" + 0.019*\"detail\"'),\n",
      " (2,\n",
      "  '0.052*\"update\" + 0.039*\"crash\" + 0.038*\"mobile\" + 0.033*\"well\" + '\n",
      "  '0.027*\"change\" + 0.023*\"send\" + 0.019*\"verify\" + 0.019*\"team\" + '\n",
      "  '0.018*\"great\" + 0.015*\"connection\"'),\n",
      " (3,\n",
      "  '0.091*\"screen\" + 0.041*\"home\" + 0.035*\"balance\" + 0.028*\"block\" + '\n",
      "  '0.025*\"look\" + 0.024*\"see\" + 0.020*\"soon\" + 0.017*\"section\" + '\n",
      "  '0.017*\"navigate\" + 0.017*\"user\"'),\n",
      " (4,\n",
      "  '0.097*\"customer\" + 0.057*\"service\" + 0.040*\"open\" + 0.030*\"say\" + '\n",
      "  '0.029*\"care\" + 0.025*\"week\" + 0.023*\"ever\" + 0.020*\"number\" + '\n",
      "  '0.020*\"feedback\" + 0.020*\"money\"'),\n",
      " (5,\n",
      "  '0.057*\"error\" + 0.045*\"message\" + 0.031*\"loan\" + 0.026*\"server\" + '\n",
      "  '0.025*\"developer\" + 0.024*\"download\" + 0.021*\"say\" + 0.018*\"offer\" + '\n",
      "  '0.017*\"several\" + 0.014*\"respond\"'),\n",
      " (6,\n",
      "  '0.088*\"login\" + 0.046*\"time\" + 0.041*\"ask\" + 0.037*\"application\" + '\n",
      "  '0.028*\"open\" + 0.025*\"give\" + 0.020*\"pin\" + 0.020*\"go\" + 0.019*\"option\" + '\n",
      "  '0.019*\"touch\"'),\n",
      " (7,\n",
      "  '0.046*\"people\" + 0.037*\"recharge\" + 0.029*\"year\" + 0.028*\"receive\" + '\n",
      "  '0.028*\"loot\" + 0.021*\"charge\" + 0.016*\"ticket\" + 0.015*\"call\" + '\n",
      "  '0.014*\"feel\" + 0.013*\"scam\"')]\n"
     ]
    }
   ],
   "source": [
    "\n",
    "# The two main inputs to the LDA topic model are the dictionary(id2word) and the corpus\n",
    "# Create the Dictionary and Corpus needed for Topic Modelling\n",
    "\n",
    "\n",
    "#  Dictionary\n",
    "id2word = corpora.Dictionary(neg_review_df.data_ready)\n",
    "\n",
    "#  Corpus: Term Document Frequency\n",
    "corpus = [id2word.doc2bow(text) for text in neg_review_df.data_ready]\n",
    "\n",
    "# Build LDA model\n",
    "lda_model = gensim.models.ldamodel.LdaModel(corpus=corpus,\n",
    "                                           id2word=id2word,\n",
    "                                           num_topics= 8,     # decided to start with 8 topics. There are advanced approaches like Kullback Leibler Divergence \n",
    "                                                              # to obtain the optimal number of topics.                          \n",
    "                                           random_state=100,\n",
    "                                           update_every=1,\n",
    "                                           chunksize=10,  \n",
    "                                           passes=10,   \n",
    "                                           alpha='symmetric',\n",
    "                                           iterations=100,\n",
    "                                           per_word_topics=True)\n",
    "\n",
    "# Look at the topics and key words\n",
    "pprint(lda_model.print_topics())"
   ]
  },
  {
   "cell_type": "markdown",
   "metadata": {},
   "source": [
    "-------\n",
    "\n",
    "How to interpret the output?\n",
    "\n",
    "The model has given 8 topics. Each topic is a weighted combination of words.  \n",
    "\n",
    "For 'Topic 1' , the maximum weightage is for 'card' followed by 'credit',  indicating the topic covers issues related to credit card.\n",
    "\n",
    "--------"
   ]
  },
  {
   "cell_type": "markdown",
   "metadata": {},
   "source": [
    "#### Perplexity & Coherence\n",
    "\n",
    "Perplexity measures how surprised the trained model will be if we introduce a new data to the training bunch. Lower the score the better. Coherence score measures the semantic similarity between the keywords within a topic. A score above 0.55 can be considered as 'okay enough'. "
   ]
  },
  {
   "cell_type": "code",
   "execution_count": 10,
   "metadata": {},
   "outputs": [
    {
     "name": "stdout",
     "output_type": "stream",
     "text": [
      "\n",
      "Perplexity:  -7.309259058077619\n",
      "\n",
      "Coherence Score:  0.34432870000081944\n"
     ]
    }
   ],
   "source": [
    "# @hidden_cell\n",
    "# Compute Perplexity\n",
    "print('\\nPerplexity: ', lda_model.log_perplexity(corpus))  # a measure of how good the model is. lower the better.\n",
    "\n",
    "# Compute Coherence Score\n",
    "coherence_model_lda = CoherenceModel(model=lda_model, texts=neg_review_df.data_ready, dictionary=id2word, coherence='c_v')\n",
    "coherence_lda = coherence_model_lda.get_coherence()\n",
    "print('\\nCoherence Score: ', coherence_lda)"
   ]
  },
  {
   "cell_type": "markdown",
   "metadata": {},
   "source": [
    "------\n",
    "\n",
    "The coherence score needs improvement which can be achived by two ways\n",
    "1. topic model selection through 'elbow method'\n",
    "2. parameter tuning\n",
    "\n",
    "I am not covering  in this blog. \n",
    "\n",
    "------"
   ]
  },
  {
   "cell_type": "markdown",
   "metadata": {},
   "source": [
    "## Visualize the topics-keywords\n"
   ]
  },
  {
   "cell_type": "markdown",
   "metadata": {},
   "source": [
    "Before visualizing lets look at the Topic and Keys words once again, but in better format"
   ]
  },
  {
   "cell_type": "code",
   "execution_count": 11,
   "metadata": {},
   "outputs": [
    {
     "name": "stdout",
     "output_type": "stream",
     "text": [
      "Topic: 0 --> Words: update/go/pay/bill/statement/click/unable/add/bug/due/page/last/want/get/back\n",
      "Topic: 1 --> Words: card/credit/work/show/use/even/get/time/check/detail/transaction/option/make/iphone/feature\n",
      "Topic: 2 --> Words: update/crash/mobile/well/change/send/verify/team/great/connection/still/network/reinstall/sm/number\n",
      "Topic: 3 --> Words: screen/home/balance/block/look/see/soon/section/navigate/user/button/tab/hang/value/performance\n",
      "Topic: 4 --> Words: customer/service/open/say/care/week/ever/number/feedback/money/connect/request/give/link/month\n",
      "Topic: 5 --> Words: error/message/loan/server/developer/download/say/offer/several/respond/continuously/tap/ui/irritate/technical\n",
      "Topic: 6 --> Words: login/time/ask/application/open/give/pin/go/option/touch/enter/back/instal/allow/notification\n",
      "Topic: 7 --> Words: people/recharge/year/receive/loot/charge/ticket/call/feel/scam/refund/permanently/automatically/believe/type\n"
     ]
    }
   ],
   "source": [
    "for idx, topic in lda_model.show_topics(formatted=False, num_words= 15):\n",
    "    print('Topic: {} --> Words: {}'.format(idx, '/'.join([w[0] for w in topic])))"
   ]
  },
  {
   "cell_type": "markdown",
   "metadata": {},
   "source": [
    "---------------------------------------------------------------------------------------\n",
    "\n",
    "Now we can see the Topics and Keys words neatly arranged\n",
    "\n",
    "---------------------------------------------------------------------------------------"
   ]
  },
  {
   "cell_type": "markdown",
   "metadata": {},
   "source": [
    "###  Visual exploration: What are the dominant topics and key words?"
   ]
  },
  {
   "cell_type": "markdown",
   "metadata": {},
   "source": [
    "The first analysis I am interested to see is the most discussed topics from all reviews. What is the key issue users are facing? \n",
    "\n",
    "I calculate,\n",
    "\n",
    "1.\tdominant topic per review\n",
    "\n",
    "2.\tweightage of dominant topic per review\n",
    "\n",
    "\n"
   ]
  },
  {
   "cell_type": "code",
   "execution_count": 12,
   "metadata": {},
   "outputs": [],
   "source": [
    "# Calculate the topic distribution\n",
    "\n",
    "from matplotlib.ticker import FuncFormatter\n",
    "\n",
    "# Dominant topic in each review\n",
    "def topics_per_review(model, corpus, start=0, end=1):\n",
    "    corpus_sel = corpus[start:end]\n",
    "    dominant_topics = []\n",
    "    topic_percentages = []\n",
    "    for i, corp in enumerate(corpus_sel):\n",
    "        topic_percs, wordid_topics, wordid_phivalues = model[corp]\n",
    "        dominant_topic = sorted(topic_percs, key = lambda x: x[1], reverse=True)[0][0]\n",
    "        dominant_topics.append((i, dominant_topic))\n",
    "        topic_percentages.append(topic_percs)\n",
    "    return(dominant_topics, topic_percentages)\n",
    "\n",
    "dominant_topics, topic_percentages = topics_per_review(model=lda_model, corpus=corpus, end=-1)            \n"
   ]
  },
  {
   "cell_type": "markdown",
   "metadata": {},
   "source": [
    "Code to find count of topics in the dataset"
   ]
  },
  {
   "cell_type": "code",
   "execution_count": 13,
   "metadata": {},
   "outputs": [
    {
     "data": {
      "text/html": [
       "<div>\n",
       "<style scoped>\n",
       "    .dataframe tbody tr th:only-of-type {\n",
       "        vertical-align: middle;\n",
       "    }\n",
       "\n",
       "    .dataframe tbody tr th {\n",
       "        vertical-align: top;\n",
       "    }\n",
       "\n",
       "    .dataframe thead th {\n",
       "        text-align: right;\n",
       "    }\n",
       "</style>\n",
       "<table border=\"1\" class=\"dataframe\">\n",
       "  <thead>\n",
       "    <tr style=\"text-align: center;\">\n",
       "      <th></th>\n",
       "      <th>Dominant_Topic</th>\n",
       "      <th>count</th>\n",
       "    </tr>\n",
       "  </thead>\n",
       "  <tbody>\n",
       "    <tr>\n",
       "      <th>0</th>\n",
       "      <td>0</td>\n",
       "      <td>34</td>\n",
       "    </tr>\n",
       "    <tr>\n",
       "      <th>1</th>\n",
       "      <td>1</td>\n",
       "      <td>250</td>\n",
       "    </tr>\n",
       "    <tr>\n",
       "      <th>2</th>\n",
       "      <td>2</td>\n",
       "      <td>37</td>\n",
       "    </tr>\n",
       "    <tr>\n",
       "      <th>3</th>\n",
       "      <td>3</td>\n",
       "      <td>16</td>\n",
       "    </tr>\n",
       "    <tr>\n",
       "      <th>4</th>\n",
       "      <td>4</td>\n",
       "      <td>35</td>\n",
       "    </tr>\n",
       "    <tr>\n",
       "      <th>5</th>\n",
       "      <td>5</td>\n",
       "      <td>18</td>\n",
       "    </tr>\n",
       "    <tr>\n",
       "      <th>6</th>\n",
       "      <td>6</td>\n",
       "      <td>54</td>\n",
       "    </tr>\n",
       "    <tr>\n",
       "      <th>7</th>\n",
       "      <td>7</td>\n",
       "      <td>5</td>\n",
       "    </tr>\n",
       "  </tbody>\n",
       "</table>\n",
       "</div>"
      ],
      "text/plain": [
       "   Dominant_Topic  count\n",
       "0         0          34 \n",
       "1         1         250 \n",
       "2         2          37 \n",
       "3         3          16 \n",
       "4         4          35 \n",
       "5         5          18 \n",
       "6         6          54 \n",
       "7         7           5 "
      ]
     },
     "metadata": {},
     "output_type": "display_data"
    }
   ],
   "source": [
    "\n",
    "# Distribution of Dominant Topics in Each review\n",
    "df = pd.DataFrame(dominant_topics, columns=['Document_Id', 'Dominant_Topic'])\n",
    "#print(df)\n",
    "dominant_topic_in_each_rev = df.groupby('Dominant_Topic').size()\n",
    "df_dominant_topic_in_each_rev = dominant_topic_in_each_rev.to_frame(name='count').reset_index()\n",
    "display(df_dominant_topic_in_each_rev)"
   ]
  },
  {
   "cell_type": "markdown",
   "metadata": {},
   "source": [
    "- 'Topic 1' is the dominant topic for 250 reviews"
   ]
  },
  {
   "cell_type": "code",
   "execution_count": 14,
   "metadata": {},
   "outputs": [
    {
     "data": {
      "text/html": [
       "<div>\n",
       "<style scoped>\n",
       "    .dataframe tbody tr th:only-of-type {\n",
       "        vertical-align: middle;\n",
       "    }\n",
       "\n",
       "    .dataframe tbody tr th {\n",
       "        vertical-align: top;\n",
       "    }\n",
       "\n",
       "    .dataframe thead th {\n",
       "        text-align: right;\n",
       "    }\n",
       "</style>\n",
       "<table border=\"1\" class=\"dataframe\">\n",
       "  <thead>\n",
       "    <tr style=\"text-align: center;\">\n",
       "      <th></th>\n",
       "      <th>index</th>\n",
       "      <th>count</th>\n",
       "    </tr>\n",
       "  </thead>\n",
       "  <tbody>\n",
       "    <tr>\n",
       "      <th>0</th>\n",
       "      <td>0</td>\n",
       "      <td>51.185</td>\n",
       "    </tr>\n",
       "    <tr>\n",
       "      <th>1</th>\n",
       "      <td>1</td>\n",
       "      <td>151.635</td>\n",
       "    </tr>\n",
       "    <tr>\n",
       "      <th>2</th>\n",
       "      <td>3</td>\n",
       "      <td>31.796</td>\n",
       "    </tr>\n",
       "    <tr>\n",
       "      <th>3</th>\n",
       "      <td>4</td>\n",
       "      <td>44.544</td>\n",
       "    </tr>\n",
       "    <tr>\n",
       "      <th>4</th>\n",
       "      <td>5</td>\n",
       "      <td>29.943</td>\n",
       "    </tr>\n",
       "    <tr>\n",
       "      <th>5</th>\n",
       "      <td>6</td>\n",
       "      <td>62.665</td>\n",
       "    </tr>\n",
       "    <tr>\n",
       "      <th>6</th>\n",
       "      <td>2</td>\n",
       "      <td>56.414</td>\n",
       "    </tr>\n",
       "    <tr>\n",
       "      <th>7</th>\n",
       "      <td>7</td>\n",
       "      <td>15.256</td>\n",
       "    </tr>\n",
       "  </tbody>\n",
       "</table>\n",
       "</div>"
      ],
      "text/plain": [
       "   index   count \n",
       "0    0     51.185\n",
       "1    1    151.635\n",
       "2    3     31.796\n",
       "3    4     44.544\n",
       "4    5     29.943\n",
       "5    6     62.665\n",
       "6    2     56.414\n",
       "7    7     15.256"
      ]
     },
     "metadata": {},
     "output_type": "display_data"
    }
   ],
   "source": [
    "# @hidden_cell\n",
    "# Total Topic Distribution by actual weight\n",
    "topic_weightage_by_rev = pd.DataFrame([dict(t) for t in topic_percentages])\n",
    "df_topic_weightage_by_rev = topic_weightage_by_rev.sum().to_frame(name='count').reset_index()\n",
    "\n",
    "display(df_topic_weightage_by_rev)"
   ]
  },
  {
   "cell_type": "markdown",
   "metadata": {},
   "source": [
    "\n",
    "\n",
    "Now we can create plots to visualize the data\n",
    "\n"
   ]
  },
  {
   "cell_type": "code",
   "execution_count": 15,
   "metadata": {},
   "outputs": [
    {
     "data": {
      "image/png": "[encoded data removed]",
      "text/plain": [
       "<Figure size 720x480 with 2 Axes>"
      ]
     },
     "metadata": {
      "needs_background": "light"
     },
     "output_type": "display_data"
    }
   ],
   "source": [
    "# @hidden_cell\n",
    "# Plots \n",
    "from matplotlib.ticker import FuncFormatter\n",
    "\n",
    "# Top  Keywords for each Topic\n",
    "topic_top_n_words = [(i, topic) for i, topics in lda_model.show_topics(formatted=False) \n",
    "                                 for j, (topic, wt) in enumerate(topics) if j < 5]  # for 5 key words\n",
    "\n",
    "df_top_n_words_stacked = pd.DataFrame(topic_top_n_words, columns=['topic_id', 'words'])\n",
    "df_top_n_words = df_top_n_words_stacked.groupby('topic_id').agg(', \\n'.join)\n",
    "df_top_n_words.reset_index(level=0,inplace=True)\n",
    "\n",
    "# Plot\n",
    "fig, (ax1, ax2) = plt.subplots(2, 1, figsize=(6, 4), dpi=120, sharey=True)\n",
    "\n",
    "# Topic Distribution by Dominant Topics\n",
    "ax1.bar(x='Dominant_Topic', height='count', data=df_dominant_topic_in_each_rev, width=.5, color='#9ECBEA')\n",
    "ax1.set_xticks(range(df_dominant_topic_in_each_rev.Dominant_Topic.unique().__len__()))\n",
    "tick_formatter = FuncFormatter(lambda x, pos: 'Topic ' + str(x)+ '\\n' + df_top_n_words.loc[df_top_n_words.topic_id==x, 'words'].values[0])\n",
    "# ax1.xaxis.set_major_formatter(tick_formatter)\n",
    "ax1.tick_params(labelsize=5)\n",
    "ax1.set_title('Number of Reviews by Dominant Topic', fontdict=dict(size=8))\n",
    "ax1.set_ylabel('Number of Reviews', fontsize = 8)\n",
    "ax1.set_ylim(0, 300)\n",
    "\n",
    "\n",
    "# Topic Distribution by Topic Weights\n",
    "ax2.bar(x='index', height='count', data=df_topic_weightage_by_rev, width=.5, color='#EADA9E')\n",
    "ax2.set_xticks(range(df_topic_weightage_by_rev.index.unique().__len__()))\n",
    "ax2.xaxis.set_major_formatter(tick_formatter)\n",
    "ax2.tick_params(labelsize=5)\n",
    "ax2.set_title('Number of Reviews by Topic Weightage', fontdict=dict(size=8))\n",
    "ax2.set_ylabel('Number of Review', fontsize = 8)\n",
    "\n",
    "plt.show()\n"
   ]
  },
  {
   "cell_type": "markdown",
   "metadata": {},
   "source": [
    "-------\n",
    "\n",
    "'Topic 1' has maximum number of reviews and weightage followed by 'Topic 6'\n",
    "\n",
    "•\t'Topic 1' has top key words as 'card', and 'credit' which are pointing towards issues related to credit (or any card) functionalities\n",
    "\n",
    "•\t'Topic 6' consists of words like 'login', 'time', 'application' etc which indicates that topic is talking about issues related to account login experience\n",
    "\n",
    "--------\n"
   ]
  },
  {
   "cell_type": "markdown",
   "metadata": {},
   "source": [
    "### Classifying each feedback to a dominant topic\n",
    "\n",
    "Another important step is to assign topic to each feedback in our data set. This is done by calculating % contribution of topics to feedback, like below:"
   ]
  },
  {
   "cell_type": "code",
   "execution_count": 16,
   "metadata": {},
   "outputs": [
    {
     "data": {
      "text/html": [
       "<div>\n",
       "<style scoped>\n",
       "    .dataframe tbody tr th:only-of-type {\n",
       "        vertical-align: middle;\n",
       "    }\n",
       "\n",
       "    .dataframe tbody tr th {\n",
       "        vertical-align: top;\n",
       "    }\n",
       "\n",
       "    .dataframe thead th {\n",
       "        text-align: right;\n",
       "    }\n",
       "</style>\n",
       "<table border=\"1\" class=\"dataframe\">\n",
       "  <thead>\n",
       "    <tr style=\"text-align: center;\">\n",
       "      <th></th>\n",
       "      <th>Document_No</th>\n",
       "      <th>Dominant_Topic</th>\n",
       "      <th>Topic_Perc_Contrib</th>\n",
       "      <th>Keywords</th>\n",
       "      <th>review</th>\n",
       "    </tr>\n",
       "  </thead>\n",
       "  <tbody>\n",
       "    <tr>\n",
       "      <th>0</th>\n",
       "      <td>0</td>\n",
       "      <td>1.0</td>\n",
       "      <td>0.432</td>\n",
       "      <td>card, credit, work, show, use, even, get, time, check, detail</td>\n",
       "      <td>Same issue repeats - credit card tab not working especially for Sapphiro Amex cards. I can not ‘manage’ Amex cards a...</td>\n",
       "    </tr>\n",
       "    <tr>\n",
       "      <th>1</th>\n",
       "      <td>1</td>\n",
       "      <td>1.0</td>\n",
       "      <td>0.491</td>\n",
       "      <td>card, credit, work, show, use, even, get, time, check, detail</td>\n",
       "      <td>1. The app could do with a serious makeover also ensuring that all the functionality still works. Like never have I ...</td>\n",
       "    </tr>\n",
       "    <tr>\n",
       "      <th>2</th>\n",
       "      <td>2</td>\n",
       "      <td>1.0</td>\n",
       "      <td>0.688</td>\n",
       "      <td>card, credit, work, show, use, even, get, time, check, detail</td>\n",
       "      <td>Hello...all other banks like sbi RBL etc have provided the facility to directly pay their credit card bills via thei...</td>\n",
       "    </tr>\n",
       "    <tr>\n",
       "      <th>3</th>\n",
       "      <td>3</td>\n",
       "      <td>0.0</td>\n",
       "      <td>0.769</td>\n",
       "      <td>update, go, pay, bill, statement, click, unable, add, bug, due</td>\n",
       "      <td>I like to set limits for all transactions just because I do not get overboard with spends. Before the previous updat...</td>\n",
       "    </tr>\n",
       "    <tr>\n",
       "      <th>4</th>\n",
       "      <td>4</td>\n",
       "      <td>2.0</td>\n",
       "      <td>0.568</td>\n",
       "      <td>update, crash, mobile, well, change, send, verify, team, great, connection</td>\n",
       "      <td>To whom ever it concern, I had downloaded app and I have been trying to login  through registered mobile number  and...</td>\n",
       "    </tr>\n",
       "  </tbody>\n",
       "</table>\n",
       "</div>"
      ],
      "text/plain": [
       "   Document_No  Dominant_Topic  Topic_Perc_Contrib                                   Keywords                                                                                           review                                                         \n",
       "0       0             1.0              0.432                     card, credit, work, show, use, even, get, time, check, detail  Same issue repeats - credit card tab not working especially for Sapphiro Amex cards. I can not ‘manage’ Amex cards a...\n",
       "1       1             1.0              0.491                     card, credit, work, show, use, even, get, time, check, detail  1. The app could do with a serious makeover also ensuring that all the functionality still works. Like never have I ...\n",
       "2       2             1.0              0.688                     card, credit, work, show, use, even, get, time, check, detail  Hello...all other banks like sbi RBL etc have provided the facility to directly pay their credit card bills via thei...\n",
       "3       3             0.0              0.769                    update, go, pay, bill, statement, click, unable, add, bug, due  I like to set limits for all transactions just because I do not get overboard with spends. Before the previous updat...\n",
       "4       4             2.0              0.568        update, crash, mobile, well, change, send, verify, team, great, connection  To whom ever it concern, I had downloaded app and I have been trying to login  through registered mobile number  and..."
      ]
     },
     "metadata": {},
     "output_type": "display_data"
    }
   ],
   "source": [
    "# @hidden_cell\n",
    "def format_topics_sentences(ldamodel=None, corpus=corpus, texts= neg_review_df.review):\n",
    "    # Init output\n",
    "    sent_topics_df = pd.DataFrame()\n",
    "\n",
    "    # Get main topic in each document\n",
    "\n",
    "    for i, row_list in enumerate(ldamodel[corpus]):\n",
    "        row = row_list[0] if ldamodel.per_word_topics else row_list            \n",
    "        # print(row)\n",
    "        row = sorted(row, key=lambda x: (x[1]), reverse=True)\n",
    "        # Get the Dominant topic, Perc Contribution and Keywords for each document\n",
    "        for j, (topic_num, prop_topic) in enumerate(row):\n",
    "            if j == 0:  # => dominant topic\n",
    "                wp = ldamodel.show_topic(topic_num)\n",
    "                topic_keywords = \", \".join([word for word, prop in wp])\n",
    "                sent_topics_df = sent_topics_df.append(pd.Series([int(topic_num), round(prop_topic,4), topic_keywords]), ignore_index=True)\n",
    "            else:\n",
    "                break\n",
    "    sent_topics_df.columns = ['Dominant_Topic', 'Perc_Contribution', 'Topic_Keywords']\n",
    "\n",
    "    # Add original text to the end of the output\n",
    "    contents = pd.Series(texts)\n",
    "    contents.reset_index(drop=True, inplace=True)\n",
    "    sent_topics_df = pd.concat([sent_topics_df, contents], axis=1)\n",
    "    return(sent_topics_df)\n",
    "\n",
    "\n",
    "df_topic_sents_keywords = format_topics_sentences(ldamodel=lda_model, corpus=corpus, texts=neg_review_df.review)\n",
    "\n",
    "# Format\n",
    "df_dominant_topic = df_topic_sents_keywords.reset_index()\n",
    "df_dominant_topic.columns = ['Document_No', 'Dominant_Topic', 'Topic_Perc_Contrib', 'Keywords', 'review']\n",
    "display(df_dominant_topic.head(5))"
   ]
  },
  {
   "cell_type": "markdown",
   "metadata": {},
   "source": [
    "--------\n",
    "\n",
    "Now I can compare manual analysis did in the beginning with what model is suggesting. \n",
    "\n",
    "•\tfirst and third reviews have mentioned issues pertaining to credit card features provided in the app, model has correctly assigned ‘topic 1’ here .\n",
    "\n",
    "•\tfourth review is about spending limit, model assigned ‘topic 0’ which has keys words like bill, statement, update\n",
    "\n",
    "•\tsame way fifth review is about login issues for which 'topic 2' is an appropriate match. \n",
    "\n",
    "•\tOnly mismatch I feel is on second review which is talking about overall look and feel of the app. So ‘topic 1’ looks to be wrong here. \n",
    "\n",
    "Overall the model worked well! Once the topics and key words are identifies the relevant feedbacks can be routed to respective teams whether product owner or app engineer or marketing head. \n",
    "\n",
    "\n",
    "-----------\n",
    "\n",
    "\n",
    "\n"
   ]
  },
  {
   "cell_type": "markdown",
   "metadata": {},
   "source": [
    "\n",
    "\n",
    "## Conclusion\n",
    "\n",
    "Topic modelling helps to discover the patterns and topics from huge amount of text data in an efficient way.  There are many practical applications of such a tool to companies, like\n",
    "\n",
    "•\tAutomatic routing of topics & reviews to relevant teams (strategy, product owner, application maintenance) for further action\n",
    "\n",
    "•\tAutomation of the data mining\n",
    "\n",
    "•\tDecision automation\n",
    "\n",
    "#### References:\n",
    "\n",
    "•\tBlei, David M.; Ng, Andrew Y.; Jordan, Michael I; Lafferty, John (January 2003). \"Latent Dirichlet allocation\". Journal of Machine Learning Research.\n",
    "\n",
    "•\thttps://www.machinelearningplus.com/nlp/topic-modeling-gensim-python/ \n",
    "\n",
    "•\thttps://www.analyticsvidhya.com/blog/2016/08/beginners-guide-to-topic-modeling-in-python/ \n",
    "\n",
    "\n",
    "\n",
    "\n"
   ]
  }
 ],
 "metadata": {
  "interpreter": {
   "hash": "aee8b7b246df8f9039afb4144a1f6fd8d2ca17a180786b69acc140d282b71a49"
  },
  "kernelspec": {
   "display_name": "Python 3.9.7 64-bit",
   "language": "python",
   "name": "python3"
  },
  "language_info": {
   "codemirror_mode": {
    "name": "ipython",
    "version": 3
   },
   "file_extension": ".py",
   "mimetype": "text/x-python",
   "name": "python",
   "nbconvert_exporter": "python",
   "pygments_lexer": "ipython3",
   "version": "3.9.7"
  },
  "orig_nbformat": 4
 },
 "nbformat": 4,
 "nbformat_minor": 2
}
